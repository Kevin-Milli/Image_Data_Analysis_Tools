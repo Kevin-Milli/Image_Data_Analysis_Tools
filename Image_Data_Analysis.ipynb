{
 "cells": [
  {
   "cell_type": "code",
   "execution_count": 1,
   "id": "d5d3e6bc-9d52-49a4-addf-95c6348f9569",
   "metadata": {},
   "outputs": [],
   "source": [
    "import numpy as np\n",
    "from tabulate import tabulate\n",
    "import os\n",
    "from PIL import Image"
   ]
  },
  {
   "cell_type": "code",
   "execution_count": 2,
   "id": "4ce2312c-01e0-4a76-990a-a12285865031",
   "metadata": {},
   "outputs": [
    {
     "name": "stdout",
     "output_type": "stream",
     "text": [
      "╒═════════════╤══════════╤═════════╤═════════════╤════════╤════════╤═══════╤═════════╕\n",
      "│ Nome file   │   height │   width │   grayscale │      R │      G │     B │   ALPHA │\n",
      "╞═════════════╪══════════╪═════════╪═════════════╪════════╪════════╪═══════╪═════════╡\n",
      "│ bw          │      512 │     512 │       21.48 │   0.00 │   0.00 │  0.00 │    0.00 │\n",
      "├─────────────┼──────────┼─────────┼─────────────┼────────┼────────┼───────┼─────────┤\n",
      "│ daffodil    │      500 │     335 │        0.00 │ 109.25 │  85.56 │  4.97 │    0.00 │\n",
      "├─────────────┼──────────┼─────────┼─────────────┼────────┼────────┼───────┼─────────┤\n",
      "│ eclipse     │      256 │     256 │        0.00 │ 109.05 │ 109.52 │ 39.85 │  133.59 │\n",
      "├─────────────┼──────────┼─────────┼─────────────┼────────┼────────┼───────┼─────────┤\n",
      "│ trump       │      183 │     275 │        0.00 │  97.01 │  98.99 │ 90.92 │    0.00 │\n",
      "╘═════════════╧══════════╧═════════╧═════════════╧════════╧════════╧═══════╧═════════╛\n"
     ]
    }
   ],
   "source": [
    "import numpy as np\n",
    "from tabulate import tabulate\n",
    "import os\n",
    "from PIL import Image\n",
    "\n",
    "\n",
    "\n",
    "# Definizione della lista di file e cartelle nella sottocartella \"images\"\n",
    "images_path = os.path.join('files', 'images')\n",
    "images_files = os.listdir(images_path)\n",
    "\n",
    "init_path = os.getcwd()\n",
    "\n",
    "\n",
    "\n",
    "# Creazione della lista di file e relative informazioni\n",
    "images_data = []\n",
    "for filename in images_files:\n",
    "    path = os.path.join(images_path, filename)\n",
    "    idx_name = filename.find(\".\")\n",
    "    img = Image.open(path)\n",
    "    \n",
    "    np_img = np.array(img)\n",
    "    height = np_img.shape[0]\n",
    "    width = np_img.shape[1]\n",
    "    file_name = filename[:idx_name]\n",
    "    \n",
    "    if len(np_img.shape) == 2:\n",
    "        R,G,B,ALPHA = 0,0,0,0\n",
    "        grayscale = np.mean(np_img)\n",
    "        images_data.append([file_name, height, width, grayscale, R, G, B, ALPHA])\n",
    "        \n",
    "    elif len(np_img.shape) == 3:\n",
    "        # controllo canale alpha o rgb\n",
    "        if  np_img.shape[-1] == 4:\n",
    "            R,G,B,ALPHA = np.mean(np_img, axis=(0,1))\n",
    "            grayscale = 0\n",
    "            images_data.append([file_name, height, width, grayscale, R, G, B, ALPHA])\n",
    "        else:\n",
    "            R,G,B = np.mean(np_img, axis=(0,1))\n",
    "            ALPHA = 0\n",
    "            grayscale = 0\n",
    "            images_data.append([file_name, height, width, grayscale, R, G, B, ALPHA])\n",
    "    \n",
    "\n",
    "# Costruzione della tabella\n",
    "table_headers = ['Nome file', 'height', 'width', 'grayscale', 'R', 'G', 'B', 'ALPHA']\n",
    "table = tabulate(images_data, headers=table_headers,tablefmt=\"fancy_grid\",floatfmt=\".2f\")\n",
    "\n",
    "# Stampa della tabella\n",
    "print(table)"
   ]
  }
 ],
 "metadata": {
  "kernelspec": {
   "display_name": "Python 3 (ipykernel)",
   "language": "python",
   "name": "python3"
  },
  "language_info": {
   "codemirror_mode": {
    "name": "ipython",
    "version": 3
   },
   "file_extension": ".py",
   "mimetype": "text/x-python",
   "name": "python",
   "nbconvert_exporter": "python",
   "pygments_lexer": "ipython3",
   "version": "3.9.13"
  }
 },
 "nbformat": 4,
 "nbformat_minor": 5
}
